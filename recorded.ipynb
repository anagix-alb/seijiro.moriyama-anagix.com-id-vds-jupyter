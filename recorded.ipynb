{
  "cells": [
    {
      "cell_type": "markdown",
      "metadata": {
      },
      "source": [
        "Open the testbench"
      ]
    },
    {
      "cell_type": "code",
      "execution_count": null,
      "metadata": {
      },
      "outputs": [

      ],
      "source": [
        "result = command \"alta_edit(select_testbench 'MOSTR', 'Nch_VD_ID', 'Instance0', 'Nch_VD_ID')\""
      ]
    },
    {
      "cell_type": "markdown",
      "metadata": {
      },
      "source": "Open the testbench"
    },
    {
      "cell_type": "code",
      "execution_count": null,
      "metadata": {
        "collapsed": false
      },
      "outputs": [

      ],
      "source": [
        "result = command \"alta_edit(select_testbench 'MOSTR', 'Nch_VD_ID', 'Instance0', 'Nch_VD_ID_copy')\""
      ]
    }
  ],
  "metadata": {
    "kernelspec": {
      "display_name": "Ruby 2.5.1",
      "language": "ruby",
      "name": "ruby"
    },
    "language_info": {
      "file_extension": ".rb",
      "mimetype": "application/x-ruby",
      "name": "ruby",
      "version": "2.5.1"
    }
  },
  "nbformat": 4,
  "nbformat_minor": 2
}
